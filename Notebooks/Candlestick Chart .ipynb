{
 "cells": [
  {
   "cell_type": "code",
   "execution_count": 10,
   "metadata": {},
   "outputs": [
    {
     "name": "stdout",
     "output_type": "stream",
     "text": [
      "Type ticker symbols separated by one space:PEP\n",
      "1y\n",
      "\n",
      "\n",
      "#######################################################\n",
      "\n",
      "\n",
      "Number of Call tests that PEP passed: 2\n",
      "Number of Put tests that PEP passed: 2\n",
      "\n",
      "\n",
      "#######################################################\n",
      "\n",
      "\n",
      "This is the format of your plot grid:\n",
      "[ (1,1) x1,y1 ]\n",
      "[ (2,1) x2,y2 ]\n",
      "[ (3,1) x3,y3 ]\n",
      "\n",
      "High five! You successfully sent some data to your account on plotly. View your plot in your browser at https://plot.ly/~jbdtstocks/0 or inside your plot.ly account where it is named 'AAPL_Candlestick'\n"
     ]
    },
    {
     "data": {
      "text/html": [
       "<iframe id=\"igraph\" scrolling=\"no\" style=\"border:none;\" seamless=\"seamless\" src=\"https://plot.ly/~jbdtstocks/0.embed\" height=\"525px\" width=\"100%\"></iframe>"
      ],
      "text/plain": [
       "<plotly.tools.PlotlyDisplay object>"
      ]
     },
     "execution_count": 10,
     "metadata": {},
     "output_type": "execute_result"
    }
   ],
   "source": [
    "import plotly \n",
    "plotly.tools.set_credentials_file(username='jbdtstocks', api_key='cCqpKMsmASdpYw5a5Hgc')\n",
    "import plotly.plotly as py\n",
    "from plotly import tools \n",
    "import plotly.graph_objs as go \n",
    "\n",
    "import pandas_datareader as pdr \n",
    "from datetime import datetime \n",
    "ticker_input = input(\"Type ticker symbols separated by one space:\")\n",
    "ticker_list = ticker_input.split()\n",
    "tickers = [i for i in ticker_list]\n",
    "\n",
    "for ticker in tickers:\n",
    "    df = pdr.DataReader(ticker, \"iex\", start='1/1/2018')\n",
    "    df['MACD'] = df['close'].ewm(span=12, adjust=False).mean() - df['close'].ewm(span=26, adjust=False).mean()\n",
    "    df['SMA14'] = df['close'].rolling(window=14).mean()\n",
    "    df['SMA50'] = df['close'].rolling(window=50).mean()\n",
    "    df['Signal'] = df['MACD'].ewm(span=9, adjust=False).mean() \n",
    "    span = 4\n",
    "    closing = df.close \n",
    "    delta = closing.diff()\n",
    "    delta = delta[1:]\n",
    "    up, down = delta.copy(), delta.copy()\n",
    "    up[up < 0] = 0\n",
    "    down[down > 0] = 0\n",
    "    roll_up = up.ewm(span).mean()\n",
    "    roll_down = (down.abs()).ewm(span).mean()\n",
    "    RS1 = roll_up / roll_down\n",
    "    df['RSI'] = 100.0 - (100.0 / (1.0 + RS1))\n",
    "    df['70%'] = 70\n",
    "    df['30%'] = 30\n",
    "    trace = go.Scatter(x=df.index, y=df.close, name='Market Price')\n",
    "    sma14 = go.Scatter(x=df.index, y=df['close'].rolling(window=14).mean(), name='SMA 14')\n",
    "    sma50 = go.Scatter(x=df.index, y=df['close'].rolling(window=50).mean(), name='SMA 50')\n",
    "    macd = go.Scatter(x=df.index, y=df['close'].ewm(span=12, adjust=False).mean() - df['close'].ewm(span=26, adjust=False).mean(), name='MACD')\n",
    "    signal = go.Scatter(x=df.index, y=df['MACD'].ewm(span=9, adjust=False).mean(), name='Signal')\n",
    "    rsi = go.Scatter(x=df.index, y=df['RSI'], name='RSI')\n",
    "    sev_pct = go.Scatter(x=df.index, y=df['70%'], mode='lines', name='70')\n",
    "    thrty_pct = go.Scatter(x=df.index, y=df['30%'], mode='lines', name='30')\n",
    "\n",
    "    call_list = []\n",
    "    put_list = []\n",
    "\n",
    "    if df['SMA14'].iloc[-1] > df['SMA50'].iloc[-1]:\n",
    "        call_list.append(1)\n",
    "    else:\n",
    "        put_list.append(0)\n",
    "\n",
    "    if df['MACD'].iloc[-1] >= 0:\n",
    "        call_list.append(1)\n",
    "    else:\n",
    "        put_list.append(0)\n",
    "\n",
    "    if df['MACD'].iloc[-1] > df['Signal'].iloc[-1]:\n",
    "        call_list.append(1)\n",
    "    else:\n",
    "        put_list.append(0)\n",
    "\n",
    "    if 40 < df['RSI'].iloc[-1] < 60:\n",
    "        call_list.append(1)\n",
    "    else:\n",
    "        put_list.append(0)\n",
    "    print('\\n')\n",
    "    print('#######################################################')\n",
    "    print('\\n')\n",
    "    print('Number of Call tests that', ticker, 'passed:', len(call_list))\n",
    "    print('Number of Put tests that', ticker, 'passed:', len(put_list))\n",
    "    if len(call_list) >= 3:\n",
    "        print(ticker, ' is a Call.')\n",
    "    if len(put_list) >= 3:\n",
    "        print(ticker, 'is a Put')\n",
    "    print('\\n')\n",
    "    print('#######################################################')\n",
    "    print('\\n')\n",
    "    data = [trace, sma14, sma50]\n",
    "    fig = tools.make_subplots(rows=3, cols=1)\n",
    "    fig.append_trace(trace, 1, 1)\n",
    "    fig.append_trace(sma14, 1,1)\n",
    "    fig.append_trace(sma50, 1,1)\n",
    "    fig.append_trace(macd, 2,1)\n",
    "    fig.append_trace(signal, 2,1)\n",
    "    fig.append_trace(rsi, 3,1)\n",
    "    fig.append_trace(sev_pct, 3,1)\n",
    "    fig.append_trace(thrty_pct, 3,1)\n",
    "    fig['layout'].update(title= ticker + '  ' + '1/1/2018 - Present')\n",
    "\n",
    "py.iplot(fig, filename='AAPL_Candlestick')\n",
    "\n"
   ]
  },
  {
   "cell_type": "code",
   "execution_count": null,
   "metadata": {},
   "outputs": [],
   "source": []
  }
 ],
 "metadata": {
  "kernelspec": {
   "display_name": "Python 3",
   "language": "python",
   "name": "python3"
  },
  "language_info": {
   "codemirror_mode": {
    "name": "ipython",
    "version": 3
   },
   "file_extension": ".py",
   "mimetype": "text/x-python",
   "name": "python",
   "nbconvert_exporter": "python",
   "pygments_lexer": "ipython3",
   "version": "3.6.5"
  }
 },
 "nbformat": 4,
 "nbformat_minor": 2
}
