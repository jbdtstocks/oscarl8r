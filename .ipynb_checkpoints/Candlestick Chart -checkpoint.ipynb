{
 "cells": [
  {
   "cell_type": "code",
   "execution_count": 7,
   "metadata": {},
   "outputs": [
    {
     "name": "stdout",
     "output_type": "stream",
     "text": [
      "5y\n",
      "High five! You successfully sent some data to your account on plotly. View your plot in your browser at https://plot.ly/~dtoth1/0 or inside your plot.ly account where it is named 'AAPL_Candlestick'\n"
     ]
    },
    {
     "data": {
      "text/html": [
       "<iframe id=\"igraph\" scrolling=\"no\" style=\"border:none;\" seamless=\"seamless\" src=\"https://plot.ly/~dtoth1/0.embed\" height=\"525px\" width=\"100%\"></iframe>"
      ],
      "text/plain": [
       "<plotly.tools.PlotlyDisplay object>"
      ]
     },
     "execution_count": 7,
     "metadata": {},
     "output_type": "execute_result"
    }
   ],
   "source": [
    "import plotly \n",
    "plotly.tools.set_credentials_file(username='dtoth1', api_key='NLyQy9j3wKlXTf2n8Qy6')\n",
    "import plotly.plotly as py\n",
    "import plotly.graph_objs as go \n",
    "\n",
    "import pandas_datareader as pdr \n",
    "from datetime import datetime \n",
    "\n",
    "df = pdr.DataReader(\"AAPL\", \"iex\", start='1/1/2015')\n",
    "\n",
    "trace = go.Candlestick(x=df.index, open=df.open, high=df.high, low=df.low, close=df.close)\n",
    "data = [trace]\n",
    "py.iplot(data, filename='AAPL_Candlestick')"
   ]
  },
  {
   "cell_type": "code",
   "execution_count": null,
   "metadata": {},
   "outputs": [],
   "source": []
  }
 ],
 "metadata": {
  "kernelspec": {
   "display_name": "Python 3",
   "language": "python",
   "name": "python3"
  },
  "language_info": {
   "codemirror_mode": {
    "name": "ipython",
    "version": 3
   },
   "file_extension": ".py",
   "mimetype": "text/x-python",
   "name": "python",
   "nbconvert_exporter": "python",
   "pygments_lexer": "ipython3",
   "version": "3.6.5"
  }
 },
 "nbformat": 4,
 "nbformat_minor": 2
}
